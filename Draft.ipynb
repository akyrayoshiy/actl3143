# -*- coding: utf-8 -*-
"""
Created on Thu Jun 30 10:22:20 2022

@author: Akyra
"""

import matplotlib.pyplot as plt
import numpy as np
import pandas as pd 
import seaborn as sns

jpn_df = pd.read_fwf("C:/Users/Akyra/Desktop/JPN/STATS/Mx_1x1.txt", skiprows=[0,1])

jpn_df = jpn_df.drop(jpn_df.index[jpn_df["Age"] =="00"])
jpn_df = jpn_df.drop(jpn_df.index[jpn_df["Age"] =="01"])
jpn_df = jpn_df.drop(jpn_df.index[jpn_df["Age"] =="02"])
jpn_df = jpn_df.drop(jpn_df.index[jpn_df["Age"] =="03"])
jpn_df = jpn_df.drop(jpn_df.index[jpn_df["Age"] =="04"])
jpn_df = jpn_df.drop(jpn_df.index[jpn_df["Age"] =="05"])
jpn_df = jpn_df.drop(jpn_df.index[jpn_df["Age"] =="06"])
jpn_df = jpn_df.drop(jpn_df.index[jpn_df["Age"] =="07"])
jpn_df = jpn_df.drop(jpn_df.index[jpn_df["Age"] =="08"])
jpn_df = jpn_df.drop(jpn_df.index[jpn_df["Age"] =="09"])
jpn_df = jpn_df.drop(jpn_df.index[jpn_df["Age"] =="10+"])


jpn_df.info()
jpn_df.describe()

sns.scatterplot(x="Age", y="Female", data = jpn_df)
sns.scatterplot(x="Age", y="Male", data = jpn_df)


# converting all columns to numeric 
jpn_df["Age"] = pd.to_numeric(jpn_df["Age"])
jpn_df["Female"] = pd.to_numeric(jpn_df["Female"])
jpn_df["Male"] = pd.to_numeric(jpn_df["Male"])
jpn_df["Total"] = pd.to_numeric(jpn_df["Total"])

# separating female data 
female_df = jpn_df[["Year", "Age", "Female"]]
female_df.index = female_df.pop("Year")

from sklearn.preprocessing import MinMaxScaler
scaler = MinMaxScaler(feature_range=(-1, 1))


train_f = female_df.loc[female_df["Year"] <= 1999]
test_f = female_df.loc[female_df["Year"] >1999]

X_train_f = train_f[["Year", "Age"]]
X_test_f = test_f[["Year", "Age"]]

y_train_f = train_f["Female"] 
y_test_f = test_f["Female"]


from sklearn.linear_model import LinearRegression

# linear regression on female data 
lr = LinearRegression()
lr.fit(X_train_f, y_train_f)

print(lr.coef_)

from sklearn.metrics import mean_squared_error
mseTrain_f = mean_squared_error(y_train_f, lr.predict(X_train_f))
mseTest_f = mean_squared_error(y_test_f, lr.predict(X_test_f))

# separating male data 
male_df = jpn_df[["Year", "Age", "Male"]]

train_m = male_df.loc[male_df["Year"] <= 1999]
test_m = male_df.loc[male_df["Year"] >1999]

X_train_m = train_m[["Year", "Age"]]
X_test_m = test_m[["Year", "Age"]]

y_train_m = train_m["Male"] 
y_test_m = test_m["Male"]

# linear regression on male data 
lr = LinearRegression()
lr.fit(X_train_m, y_train_m)

print(lr.coef_)

from sklearn.metrics import mean_squared_error
mseTrain_m = mean_squared_error(y_train_m, lr.predict(X_train_m))
mseTest_m = mean_squared_error(y_test_m, lr.predict(X_test_m))

# Benchmark model - using prediction rule 

val_female_data = female_df.loc[(female_df["Year"] >1990) & (female_df["Year"]<2005) ]

scaled = scaler.fit_transform(val_female_data)
val_y_female_data = scaled[:, 2]

val_female_pred = female_df.loc[(female_df["Year"] >1989) & (female_df["Year"]<2004)]
scaled2 = scaler.fit_transform(val_female_pred)
val_y_female_pred = scaled2[:,2]

BL_mseF = mean_squared_error(val_y_female_data, val_y_female_pred)
BL_mseF


val_male_data = male_df.loc[(male_df["Year"] >1990) & (male_df["Year"]<2005) ]

scaled3 = scaler.fit_transform(val_male_data)
val_y_male_data = scaled3[:, 2]

val_male_pred = male_df.loc[(male_df["Year"] >1989) & (male_df["Year"]<2004)]
scaled4 = scaler.fit_transform(val_male_pred)
val_y_male_pred = scaled4[:,2]

BL_mseM = mean_squared_error(val_y_male_data, val_y_male_pred)
BL_mseM











male_pred = male_df.loc[male_df["Year"]<2020]
y_male_pred = male_pred["Male"]

male_data = male_df.loc[male_df["Year"]>1947]
y_male_data =male_data["Male"]

BL_mseM = mean_squared_error(y_male_data, y_male_pred)


train_m_pred = male_df.loc[male_df["Year"] <= 2000]
train_m_pred = train_m_pred.loc[train_m_pred["Year"] > 1947]
y_train_pred_m = train_m_pred["Male"]

BL_mseTrain_m = mean_squared_error(y_train_m, y_train_pred_m)
test_m_pred = male_df.loc[male_df["Year"] >= 1999]
test_m_pred = test_m_pred.loc[test_m_pred["Year"] <2020]
y_test_pred_m = test_m_pred["Male"]

BL_mseTest_m = mean_squared_error(y_test_m, y_test_pred_m)

train_f_pred = female_df.loc[female_df["Year"] <= 2000]
train_f_pred = train_f_pred.loc[train_f_pred["Year"] > 1947]
y_train_pred_f = train_f_pred["Female"]

BL_mseTrain_f = mean_squared_error(y_train_f, y_train_pred_f)

test_f_pred = female_df.loc[female_df["Year"] >= 1999]
test_f_pred = test_f_pred.loc[test_f_pred["Year"] <2020]
y_test_pred_f = test_f_pred["Female"]

BL_mseTest_f = mean_squared_error(y_test_f, y_test_pred_f)


# building NN model 

from tensorflow.keras.models import Sequential
from tensorflow.keras.layers import Dense

model = Sequential([
    Dense(30, input_dim=2, activation="relu"),
    Dense(1, activation = "relu")
])

model.compile("adam", "mse")
%time hist = model.fit(X_train_f, y_train_f, epochs=5, verbose=True)
hist.history["loss"]





